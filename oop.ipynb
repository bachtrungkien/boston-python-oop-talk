{
 "cells": [
  {
   "cell_type": "markdown",
   "metadata": {
    "slideshow": {
     "slide_type": "slide"
    }
   },
   "source": [
    "## Introduction to objects and classes"
   ]
  },
  {
   "cell_type": "markdown",
   "metadata": {
    "slideshow": {
     "slide_type": "notes"
    }
   },
   "source": [
    "* Introduce myself\n",
    "* Express my desire to have people ask me questions"
   ]
  },
  {
   "cell_type": "markdown",
   "metadata": {
    "slideshow": {
     "slide_type": "slide"
    }
   },
   "source": [
    "## Why is abstraction important?"
   ]
  },
  {
   "cell_type": "markdown",
   "metadata": {
    "slideshow": {
     "slide_type": "notes"
    }
   },
   "source": [
    "* Object oriented programming is a form of abstraction\n",
    "* Allows the programmer to express _what_ they want, not _how_ they want it to happen\n",
    "* Software is about modelling things\n",
    "* Improves clarity and correctness of our models"
   ]
  },
  {
   "cell_type": "markdown",
   "metadata": {
    "slideshow": {
     "slide_type": "fragment"
    }
   },
   "source": [
    "```\n",
    "$ cat > hello.asm\n",
    "        SECTION .data\n",
    "msg:    db `Hello world!\\n`\n",
    "len:    equ $-msg\n",
    "\n",
    "        SECTION .text\n",
    "\n",
    "        global _start\n",
    "_start:\n",
    "        mov     rax,1\n",
    "        mov     rdi,1\n",
    "        mov     rsi,msg\n",
    "        mov     rdx,len\n",
    "        syscall\n",
    "        mov     rax,60\n",
    "        xor     rdi,rdi\n",
    "        syscall\n",
    "\n",
    "$ nasm -f elf64 hello.asm\n",
    "$ ld hello.o -o hello\n",
    "$ ./hello \n",
    "Hello world!\n",
    "```"
   ]
  },
  {
   "cell_type": "markdown",
   "metadata": {
    "slideshow": {
     "slide_type": "notes"
    }
   },
   "source": [
    "* This is a program with almost no abstractions\n",
    "* Hello world for linux x64 in nasm\n",
    "* Very literally says \"How to print hello world\"\n",
    "* Hard to guage intent"
   ]
  },
  {
   "cell_type": "code",
   "execution_count": 1,
   "metadata": {
    "collapsed": false,
    "slideshow": {
     "slide_type": "fragment"
    }
   },
   "outputs": [
    {
     "name": "stdout",
     "output_type": "stream",
     "text": [
      "Hello World!\n"
     ]
    }
   ],
   "source": [
    "print('Hello World!')"
   ]
  },
  {
   "cell_type": "markdown",
   "metadata": {
    "slideshow": {
     "slide_type": "notes"
    }
   },
   "source": [
    "* This is the same program with a high level of abstraction\n",
    "* Python\n",
    "* Expresses exactly what we want to do\n",
    "* Easy to guage the intent\n",
    "* Same output as the x64 nasm\n",
    "\n",
    "\n",
    "* We don't need to worry about how it happens\n",
    "* Allows us to name this concept to be reused later"
   ]
  },
  {
   "cell_type": "markdown",
   "metadata": {
    "slideshow": {
     "slide_type": "slide"
    }
   },
   "source": [
    "## Definitions"
   ]
  },
  {
   "cell_type": "markdown",
   "metadata": {
    "slideshow": {
     "slide_type": "notes"
    }
   },
   "source": [
    "* We need to define some primitives before we discuss OOP"
   ]
  },
  {
   "cell_type": "markdown",
   "metadata": {
    "slideshow": {
     "slide_type": "subslide"
    }
   },
   "source": [
    "## State"
   ]
  },
  {
   "cell_type": "markdown",
   "metadata": {
    "slideshow": {
     "slide_type": "fragment"
    }
   },
   "source": [
    "Facts that describe something."
   ]
  },
  {
   "cell_type": "markdown",
   "metadata": {
    "slideshow": {
     "slide_type": "notes"
    }
   },
   "source": [
    "* Timmy the cat has orange fur\n",
    "* Timmy is 3 years old\n",
    "* Timmy cat has long fur"
   ]
  },
  {
   "cell_type": "markdown",
   "metadata": {
    "slideshow": {
     "slide_type": "subslide"
    }
   },
   "source": [
    "## Behavior"
   ]
  },
  {
   "cell_type": "markdown",
   "metadata": {
    "slideshow": {
     "slide_type": "fragment"
    }
   },
   "source": [
    "Actions that something can take."
   ]
  },
  {
   "cell_type": "markdown",
   "metadata": {
    "slideshow": {
     "slide_type": "notes"
    }
   },
   "source": [
    "* Cats can run\n",
    "* Cats can purr\n",
    "* Cats can jump"
   ]
  },
  {
   "cell_type": "markdown",
   "metadata": {
    "slideshow": {
     "slide_type": "subslide"
    }
   },
   "source": [
    "## Object"
   ]
  },
  {
   "cell_type": "markdown",
   "metadata": {
    "slideshow": {
     "slide_type": "fragment"
    }
   },
   "source": [
    "Something that has state and behavior."
   ]
  },
  {
   "cell_type": "markdown",
   "metadata": {
    "slideshow": {
     "slide_type": "notes"
    }
   },
   "source": [
    "* A cat can be thought of as an object\n",
    "* A conceptual grouping"
   ]
  },
  {
   "cell_type": "markdown",
   "metadata": {
    "slideshow": {
     "slide_type": "subslide"
    }
   },
   "source": [
    "## Class"
   ]
  },
  {
   "cell_type": "markdown",
   "metadata": {
    "slideshow": {
     "slide_type": "fragment"
    }
   },
   "source": [
    "A blueprint or specification for objects."
   ]
  },
  {
   "cell_type": "markdown",
   "metadata": {
    "slideshow": {
     "slide_type": "notes"
    }
   },
   "source": [
    "* The concept of cats can be a class"
   ]
  },
  {
   "cell_type": "markdown",
   "metadata": {
    "slideshow": {
     "slide_type": "subslide"
    }
   },
   "source": [
    "## Exampe: list"
   ]
  },
  {
   "cell_type": "markdown",
   "metadata": {
    "slideshow": {
     "slide_type": "notes"
    }
   },
   "source": [
    "* A list is an ordered collection of other things\n",
    "* Like a grocery list"
   ]
  },
  {
   "cell_type": "markdown",
   "metadata": {
    "slideshow": {
     "slide_type": "subslide"
    }
   },
   "source": [
    "[1, 2, 3]"
   ]
  },
  {
   "cell_type": "markdown",
   "metadata": {
    "slideshow": {
     "slide_type": "notes"
    }
   },
   "source": [
    "* This is an object\n",
    "\n",
    "* It has state:\n",
    "  * Length 3\n",
    "  * Contains 1, 2, and 3\n",
    "\n",
    "* It has behavior\n",
    "  * We can add things to our list\n",
    "  * We can remove things from our list\n",
    "  * We can change the order\n",
    "  * various other operations"
   ]
  },
  {
   "cell_type": "markdown",
   "metadata": {
    "slideshow": {
     "slide_type": "slide"
    }
   },
   "source": [
    "## Rationals"
   ]
  },
  {
   "cell_type": "markdown",
   "metadata": {
    "slideshow": {
     "slide_type": "notes"
    }
   },
   "source": [
    "* Also called fractions\n",
    "* A pair of integers\n",
    "* Numerator\n",
    "* Denominator\n",
    "* Denominator cannot be zero\n",
    "\n",
    "\n",
    "* Let's try to define a very simple model for this"
   ]
  },
  {
   "cell_type": "code",
   "execution_count": 6,
   "metadata": {
    "collapsed": false,
    "slideshow": {
     "slide_type": "subslide"
    }
   },
   "outputs": [],
   "source": [
    "# x = 1 / 3\n",
    "x_numer = 1\n",
    "x_denom = 3"
   ]
  },
  {
   "cell_type": "markdown",
   "metadata": {
    "slideshow": {
     "slide_type": "notes"
    }
   },
   "source": [
    "* Very simple representation for rational\n",
    "* Two variables to represent the two pieces of state"
   ]
  },
  {
   "cell_type": "code",
   "execution_count": 7,
   "metadata": {
    "collapsed": true,
    "slideshow": {
     "slide_type": "fragment"
    }
   },
   "outputs": [],
   "source": [
    "# y = 3 / 6\n",
    "y_numer = 3\n",
    "y_denom = 6"
   ]
  },
  {
   "cell_type": "markdown",
   "metadata": {
    "slideshow": {
     "slide_type": "notes"
    }
   },
   "source": [
    "* Same as x\n",
    "* Notice that this is a valid ratio\n",
    "* Not the most efficient form"
   ]
  },
  {
   "cell_type": "code",
   "execution_count": 9,
   "metadata": {
    "collapsed": false,
    "slideshow": {
     "slide_type": "fragment"
    }
   },
   "outputs": [
    {
     "data": {
      "text/plain": [
       "(15, 18)"
      ]
     },
     "execution_count": 9,
     "metadata": {},
     "output_type": "execute_result"
    }
   ],
   "source": [
    "# add x and y\n",
    "res_numer = (x_numer * y_denom) + (y_numer * x_denom)\n",
    "res_denom = x_denom * y_denom\n",
    "\n",
    "res_numer, res_denom"
   ]
  },
  {
   "cell_type": "markdown",
   "metadata": {
    "slideshow": {
     "slide_type": "notes"
    }
   },
   "source": [
    "* Here is an algorithm to add x and y\n",
    "* Result is also not the most efficient\n",
    "* Let's clean that up"
   ]
  },
  {
   "cell_type": "code",
   "execution_count": 10,
   "metadata": {
    "collapsed": false,
    "slideshow": {
     "slide_type": "fragment"
    }
   },
   "outputs": [
    {
     "data": {
      "text/plain": [
       "(5, 6)"
      ]
     },
     "execution_count": 10,
     "metadata": {},
     "output_type": "execute_result"
    }
   ],
   "source": [
    "from fractions import gcd\n",
    "\n",
    "res_gcd = gcd(res_numer, res_denom)\n",
    "res_numer = res_numer // res_gcd\n",
    "res_denom = res_denom // res_gcd\n",
    "\n",
    "res_numer, res_denom"
   ]
  },
  {
   "cell_type": "markdown",
   "metadata": {
    "slideshow": {
     "slide_type": "notes"
    }
   },
   "source": [
    "* Here we can reduce the ratio into a more simple form\n",
    "* Still equivalent\n",
    "\n",
    "\n",
    "* Notice that we need to keep track of these two value seperatly\n",
    "* Easy to mess something up\n",
    "* No in-code way of keeping them together"
   ]
  },
  {
   "cell_type": "code",
   "execution_count": 11,
   "metadata": {
    "collapsed": true,
    "slideshow": {
     "slide_type": "subslide"
    }
   },
   "outputs": [],
   "source": [
    "def make_rational(numer, denom):\n",
    "    \"\"\"Create a pair of integers representing a rational.\n",
    "    \n",
    "    Parameters\n",
    "    ----------\n",
    "    numer : int\n",
    "        The numerator of the rational.\n",
    "    denom : int\n",
    "        The denominator of the rational.\n",
    "        \n",
    "    Returns\n",
    "    -------\n",
    "    rational : tuple\n",
    "        A pair of integers.\n",
    "    \"\"\"\n",
    "    return (numer, denom)"
   ]
  },
  {
   "cell_type": "markdown",
   "metadata": {
    "slideshow": {
     "slide_type": "notes"
    }
   },
   "source": [
    "* Group the numerator and denominator into a single entity\n",
    "* Allows us to pass them around as one unit\n",
    "* They cannot get mixed up now"
   ]
  },
  {
   "cell_type": "code",
   "execution_count": 12,
   "metadata": {
    "collapsed": false,
    "slideshow": {
     "slide_type": "subslide"
    }
   },
   "outputs": [
    {
     "data": {
      "text/plain": [
       "(1, 3)"
      ]
     },
     "execution_count": 12,
     "metadata": {},
     "output_type": "execute_result"
    }
   ],
   "source": [
    "# x = 1 / 3\n",
    "x = make_rational(numer=1, denom=3)\n",
    "\n",
    "x"
   ]
  },
  {
   "cell_type": "markdown",
   "metadata": {
    "slideshow": {
     "slide_type": "notes"
    }
   },
   "source": [
    "* x is now a single entity that has the numerator and the denominator\n",
    "* This is closer to our model of rationals\n",
    "* Morally a single value"
   ]
  },
  {
   "cell_type": "code",
   "execution_count": 13,
   "metadata": {
    "collapsed": false,
    "slideshow": {
     "slide_type": "fragment"
    }
   },
   "outputs": [
    {
     "data": {
      "text/plain": [
       "(3, 6)"
      ]
     },
     "execution_count": 13,
     "metadata": {},
     "output_type": "execute_result"
    }
   ],
   "source": [
    "# y = 3 / 6\n",
    "y = make_rational(3, 6)\n",
    "\n",
    "y"
   ]
  },
  {
   "cell_type": "markdown",
   "metadata": {
    "slideshow": {
     "slide_type": "notes"
    }
   },
   "source": [
    "* We can omit the `numer=` and `denom=`\n",
    "* same concept as x"
   ]
  },
  {
   "cell_type": "code",
   "execution_count": 15,
   "metadata": {
    "collapsed": false,
    "slideshow": {
     "slide_type": "fragment"
    }
   },
   "outputs": [
    {
     "data": {
      "text/plain": [
       "(15, 18)"
      ]
     },
     "execution_count": 15,
     "metadata": {},
     "output_type": "execute_result"
    }
   ],
   "source": [
    "# res = x + y\n",
    "res = make_rational((x[0] * y[1]) + (y[0] * x[1]), x[1] * y[1])\n",
    "\n",
    "res"
   ]
  },
  {
   "cell_type": "markdown",
   "metadata": {
    "slideshow": {
     "slide_type": "notes"
    }
   },
   "source": [
    "* We lose some readability here\n",
    "* x[0] -> x subscript 0 -> x sub 0\n",
    "* The first element in x\n",
    "\n",
    "\n",
    "* Need to manually manage the numerator and denominator still\n",
    "* Still hard to reason about"
   ]
  },
  {
   "cell_type": "code",
   "execution_count": 17,
   "metadata": {
    "collapsed": false,
    "slideshow": {
     "slide_type": "fragment"
    }
   },
   "outputs": [
    {
     "data": {
      "text/plain": [
       "(5, 6)"
      ]
     },
     "execution_count": 17,
     "metadata": {},
     "output_type": "execute_result"
    }
   ],
   "source": [
    "res_gcd = gcd(res[0], res[1])\n",
    "res = make_rational(res[0] // res_gcd, res[1] // res_gcd)\n",
    "\n",
    "res"
   ]
  },
  {
   "cell_type": "code",
   "execution_count": 21,
   "metadata": {
    "collapsed": true,
    "slideshow": {
     "slide_type": "subslide"
    }
   },
   "outputs": [],
   "source": [
    "def add_rationals(x, y):\n",
    "    \"\"\"Adds two rational numbers.\n",
    "    \n",
    "    Parameters\n",
    "    ----------\n",
    "    x : tuple\n",
    "        The first rational.\n",
    "    y : tuple\n",
    "        The second rational.\n",
    "\n",
    "    Returns\n",
    "    -------\n",
    "    sum : tuple\n",
    "        The result of x + y\n",
    "    \"\"\"\n",
    "    return (x[0] * y[1]) + (y[0] * x[1]), x[1] * y[1]"
   ]
  },
  {
   "cell_type": "markdown",
   "metadata": {
    "slideshow": {
     "slide_type": "notes"
    }
   },
   "source": [
    "* Add a layer of abstraction by naming the algorithm\n",
    "* Consumers don't need to know how to add two rationals\n",
    "* More expressive"
   ]
  },
  {
   "cell_type": "code",
   "execution_count": 22,
   "metadata": {
    "collapsed": false,
    "slideshow": {
     "slide_type": "subslide"
    }
   },
   "outputs": [],
   "source": [
    "x = make_rational(1, 3)\n",
    "y = make_rational(2, 4)\n",
    "z = make_rational(3, 7)"
   ]
  },
  {
   "cell_type": "markdown",
   "metadata": {
    "slideshow": {
     "slide_type": "notes"
    }
   },
   "source": [
    "* Here we can create a bunch of rationals"
   ]
  },
  {
   "cell_type": "code",
   "execution_count": 23,
   "metadata": {
    "collapsed": false,
    "slideshow": {
     "slide_type": "fragment"
    }
   },
   "outputs": [],
   "source": [
    "sum_xy = add_rationals(x, y)\n",
    "sum_xz = add_rationals(x, z)\n",
    "sum_yz = add_rationals(y, z)"
   ]
  },
  {
   "cell_type": "markdown",
   "metadata": {
    "slideshow": {
     "slide_type": "notes"
    }
   },
   "source": [
    "* This code is very expressive\n",
    "* Tells us what we are trying to do\n",
    "* Not how we want to do it\n",
    "\n",
    "\n",
    "* No longer need to identify the add algorithm"
   ]
  },
  {
   "cell_type": "code",
   "execution_count": 26,
   "metadata": {
    "collapsed": false,
    "slideshow": {
     "slide_type": "fragment"
    }
   },
   "outputs": [
    {
     "name": "stdout",
     "output_type": "stream",
     "text": [
      "(10, 12)\n",
      "(16, 21)\n",
      "(26, 28)\n"
     ]
    }
   ],
   "source": [
    "print(sum_xy)\n",
    "print(sum_xz)\n",
    "print(sum_yz)"
   ]
  },
  {
   "cell_type": "markdown",
   "metadata": {
    "slideshow": {
     "slide_type": "notes"
    }
   },
   "source": [
    "* Still get the same results\n",
    "\n",
    "\n",
    "* Notice that 10 / 12 amd 28 / 28 are not reduced\n",
    "* We want to provide a way to do that\n",
    "* We can use the same abstraction rules as before"
   ]
  },
  {
   "cell_type": "code",
   "execution_count": 27,
   "metadata": {
    "collapsed": true,
    "slideshow": {
     "slide_type": "subslide"
    }
   },
   "outputs": [],
   "source": [
    "def reduce_rational(r):\n",
    "    \"\"\"Reduce a rational number to the most simple form.\n",
    "    \n",
    "    Parameters\n",
    "    ----------\n",
    "    r : tuple\n",
    "        A rational.\n",
    "\n",
    "    Returns\n",
    "    -------\n",
    "    reduced : tuple\n",
    "        The most reduced form of r.\n",
    "    \"\"\"\n",
    "    g = gcd(r[0], r[1])\n",
    "    return r[0] // g, r[1] // g"
   ]
  },
  {
   "cell_type": "markdown",
   "metadata": {
    "slideshow": {
     "slide_type": "notes"
    }
   },
   "source": [
    "* Allows us to name this behavior\n",
    "* Again, we don't need to know how to do this"
   ]
  },
  {
   "cell_type": "code",
   "execution_count": 7,
   "metadata": {
    "collapsed": false,
    "slideshow": {
     "slide_type": "subslide"
    }
   },
   "outputs": [
    {
     "name": "stdout",
     "output_type": "stream",
     "text": [
      "x + y = 5 / 6\n",
      "x + z = 16 / 21\n",
      "y + z = 13 / 14\n"
     ]
    }
   ],
   "source": [
    "x = make_rational(1, 3)\n",
    "y = make_rational(2, 4)\n",
    "z = make_rational(3, 7)"
   ]
  },
  {
   "cell_type": "code",
   "execution_count": null,
   "metadata": {
    "collapsed": true,
    "slideshow": {
     "slide_type": "fragment"
    }
   },
   "outputs": [],
   "source": [
    "sum_xy = add_rationals(x, y)\n",
    "sum_xz = add_rationals(x, z)\n",
    "sum_yz = add_rationals(y, z)"
   ]
  },
  {
   "cell_type": "code",
   "execution_count": null,
   "metadata": {
    "collapsed": true,
    "slideshow": {
     "slide_type": "fragment"
    }
   },
   "outputs": [],
   "source": [
    "print(reduce_rational(sum_xy))\n",
    "print(reduce_rational(sum_xz))\n",
    "print(reduce_rational(sum_yz))"
   ]
  },
  {
   "cell_type": "markdown",
   "metadata": {
    "slideshow": {
     "slide_type": "notes"
    }
   },
   "source": [
    "* Now things are reduced\n",
    "* We are responsible for keeping the data reduced\n",
    "* Still no way to make this happen for us"
   ]
  },
  {
   "cell_type": "code",
   "execution_count": 28,
   "metadata": {
    "collapsed": true,
    "slideshow": {
     "slide_type": "subslide"
    }
   },
   "outputs": [],
   "source": [
    "def rational_to_string(r):\n",
    "    \"\"\"Convert a rational number to a human readable\n",
    "    string representation.\n",
    "    \n",
    "    Parameters\n",
    "    ----------\n",
    "    r : tuple\n",
    "        A rational.\n",
    "\n",
    "    Returns\n",
    "    -------\n",
    "    cs : str\n",
    "        A string representation of r.\n",
    "    \"\"\"\n",
    "    return '{numer} / {denom}'.format(numer=r[0], denom=r[1])"
   ]
  },
  {
   "cell_type": "markdown",
   "metadata": {
    "slideshow": {
     "slide_type": "notes"
    }
   },
   "source": [
    "* Behavior to convert the data into human readable form\n",
    "* Isolates the caller from the implementation of the data"
   ]
  },
  {
   "cell_type": "code",
   "execution_count": 29,
   "metadata": {
    "collapsed": false,
    "slideshow": {
     "slide_type": "subslide"
    }
   },
   "outputs": [
    {
     "data": {
      "text/plain": [
       "'1 / 3'"
      ]
     },
     "execution_count": 29,
     "metadata": {},
     "output_type": "execute_result"
    }
   ],
   "source": [
    "x = make_rational(1, 3)\n",
    "rational_to_string(x)"
   ]
  },
  {
   "cell_type": "markdown",
   "metadata": {
    "slideshow": {
     "slide_type": "notes"
    }
   },
   "source": [
    "* Let's us represent rationals the way we want\n",
    "* More expressive for readers.\n",
    "\n",
    "\n",
    "* We have identified 2 pieces of state for rationals\n",
    "  1. The numerator\n",
    "  1. The denominator\n",
    "\n",
    "\n",
    "* We also have identified 4 behaviors of a rational\n",
    "  1. Setting up its state\n",
    "  1. Being added with another rational\n",
    "  1. Being reduced to the most simple form\n",
    "  1. Being converted to a human readable form\n",
    "  \n",
    "\n",
    "* We need a way to group these things together\n",
    "* We can group these with a class"
   ]
  },
  {
   "cell_type": "code",
   "execution_count": 32,
   "metadata": {
    "collapsed": true,
    "slideshow": {
     "slide_type": "slide"
    }
   },
   "outputs": [],
   "source": [
    "class Rational:\n",
    "    \"\"\"A rational number.\n",
    "    \n",
    "    Parameters\n",
    "    ----------\n",
    "    numer : int\n",
    "        The numerator.\n",
    "    denom : int\n",
    "        The denominator.\n",
    "    \"\"\"\n",
    "    def __init__(self, numer, denom):\n",
    "        self.numer = numer\n",
    "        self.denom = denom\n",
    "        \n",
    "    def add(self, other):\n",
    "        return Rational(\n",
    "            numer=(self.numer * other.denom) + (other.numer * self.denom),\n",
    "            denom=self.denom * other.denom,\n",
    "        )\n",
    "    \n",
    "    def eq(self, other):\n",
    "        return self.numer == other.numer and self.denom == other.denom\n",
    "    \n",
    "    def reduce(self):\n",
    "        g = gcd(self.numer, self.denom)\n",
    "        return Rational(\n",
    "            numer=self.numer // g,\n",
    "            denom=self.denom // g,\n",
    "        )\n",
    "    \n",
    "    def __repr__(self):\n",
    "        return '{numer} / {denom}'.format(numer=self.numer, denom=self.denom)"
   ]
  },
  {
   "cell_type": "markdown",
   "metadata": {
    "slideshow": {
     "slide_type": "notes"
    }
   },
   "source": [
    "* This is the class that defines `Rational` objects\n",
    "* The first line is the __class statement__\n",
    "* The indented region following is the __class body__\n",
    "\n",
    "\n",
    "* Functions in the body define the behavior\n",
    "* We call these behaviors __methods__\n",
    "\n",
    "\n",
    "* The first behavior is special (`__init__`)\n",
    "* This behavior is special because it tells the `Rational` object how to initialize its state\n",
    "* `self` represents the state of our object\n",
    "* store the numerator and denominator on the object\n",
    "* This is like `make_rational`\n",
    "\n",
    "\n",
    "* Now we have `add`\n",
    "* we can drop the `_rationals` suffix because we now have some context\n",
    "* This behaviour depends on our state, and the state of another rational `other`\n",
    "* Same algorithm as before\n",
    "* More clear because we can name the state\n",
    "* Returns another rational\n",
    "* This keeps the behavior linked to the new state\n",
    "\n",
    "\n",
    "* We have added an `eq` behavior for checking equality\n",
    "\n",
    "\n",
    "* We also have `reduce_rational`\n",
    "* We can drop the suffix\n",
    "* Also returns a rational\n",
    "\n",
    "\n",
    "* `__repr__` is also special\n",
    "* This is the implementation of `rational_to_str`\n",
    "* This tells the class how objects should display themselves\n",
    "* The python interface methods will be covered by Cliff in the next talk"
   ]
  },
  {
   "cell_type": "code",
   "execution_count": 35,
   "metadata": {
    "collapsed": false,
    "slideshow": {
     "slide_type": "subslide"
    }
   },
   "outputs": [],
   "source": [
    "x = Rational(1, 3)\n",
    "y = Rational(2, 4)"
   ]
  },
  {
   "cell_type": "markdown",
   "metadata": {
    "slideshow": {
     "slide_type": "notes"
    }
   },
   "source": [
    "* Here `x` and `y` __instances__ of `Rational`"
   ]
  },
  {
   "cell_type": "code",
   "execution_count": 36,
   "metadata": {
    "collapsed": false,
    "slideshow": {
     "slide_type": "fragment"
    }
   },
   "outputs": [
    {
     "data": {
      "text/plain": [
       "10 / 12"
      ]
     },
     "execution_count": 36,
     "metadata": {},
     "output_type": "execute_result"
    }
   ],
   "source": [
    "sum_xy = x.add(y)\n",
    "\n",
    "sum_xy"
   ]
  },
  {
   "cell_type": "markdown",
   "metadata": {
    "slideshow": {
     "slide_type": "notes"
    }
   },
   "source": [
    "* `x.add(y)` says: \"Invoke the `add` behavior of the `x` object with `y` as the second argument\"\n",
    "* This means that we should look at the `add` __method__ of the `Rational` class\n",
    "* show that `self` is the state of `x`\n",
    "\n",
    "\n",
    "* Human readable representation"
   ]
  },
  {
   "cell_type": "code",
   "execution_count": 37,
   "metadata": {
    "collapsed": false,
    "slideshow": {
     "slide_type": "fragment"
    }
   },
   "outputs": [
    {
     "data": {
      "text/plain": [
       "5 / 6"
      ]
     },
     "execution_count": 37,
     "metadata": {},
     "output_type": "execute_result"
    }
   ],
   "source": [
    "sum_xy.reduce()"
   ]
  },
  {
   "cell_type": "markdown",
   "metadata": {
    "slideshow": {
     "slide_type": "notes"
    }
   },
   "source": [
    "* Here we invoke the `reduce` __method__ of `sum_xy`\n",
    "* No other arguments"
   ]
  },
  {
   "cell_type": "code",
   "execution_count": 38,
   "metadata": {
    "collapsed": false,
    "slideshow": {
     "slide_type": "subslide"
    }
   },
   "outputs": [
    {
     "name": "stdout",
     "output_type": "stream",
     "text": [
      "1 / 2\n",
      "2 / 4\n"
     ]
    }
   ],
   "source": [
    "x = Rational(1, 2)\n",
    "y = Rational(2, 4)\n",
    "\n",
    "print(x)\n",
    "print(y)"
   ]
  },
  {
   "cell_type": "markdown",
   "metadata": {
    "slideshow": {
     "slide_type": "notes"
    }
   },
   "source": [
    "* We have some issues with our model\n",
    "* These appear differently\n",
    "* These are conceptually the same"
   ]
  },
  {
   "cell_type": "code",
   "execution_count": 39,
   "metadata": {
    "collapsed": false,
    "slideshow": {
     "slide_type": "fragment"
    }
   },
   "outputs": [
    {
     "data": {
      "text/plain": [
       "False"
      ]
     },
     "execution_count": 39,
     "metadata": {},
     "output_type": "execute_result"
    }
   ],
   "source": [
    "x.eq(y)"
   ]
  },
  {
   "cell_type": "markdown",
   "metadata": {
    "slideshow": {
     "slide_type": "notes"
    }
   },
   "source": [
    "* This actually causes problems"
   ]
  },
  {
   "cell_type": "code",
   "execution_count": 40,
   "metadata": {
    "collapsed": false,
    "slideshow": {
     "slide_type": "subslide"
    }
   },
   "outputs": [
    {
     "data": {
      "text/plain": [
       "1 / 0"
      ]
     },
     "execution_count": 40,
     "metadata": {},
     "output_type": "execute_result"
    }
   ],
   "source": [
    "z = Rational(1, 0)\n",
    "z"
   ]
  },
  {
   "cell_type": "markdown",
   "metadata": {
    "slideshow": {
     "slide_type": "notes"
    }
   },
   "source": [
    "* We can also create invalid rationals\n",
    "* This is not a rational number but our model allows it\n",
    "\n",
    "\n",
    "* We need to update our blueprint (class)\n",
    "* Provide some constraints"
   ]
  },
  {
   "cell_type": "code",
   "execution_count": 47,
   "metadata": {
    "collapsed": true,
    "slideshow": {
     "slide_type": "subslide"
    }
   },
   "outputs": [],
   "source": [
    "class Rational:\n",
    "    \"\"\"A rational number.\n",
    "    \n",
    "    Parameters\n",
    "    ----------\n",
    "    numer : int\n",
    "        The numerator.\n",
    "    denom : int\n",
    "        The denominator.\n",
    "    \"\"\"\n",
    "    def __init__(self, numer, denom):\n",
    "        if denom == 0:\n",
    "            raise ValueError('denom cannot be zero')\n",
    "\n",
    "        g = gcd(numer, denom)\n",
    "        self.numer = numer // g\n",
    "        self.denom = denom // g\n",
    "        \n",
    "    def add(self, other):\n",
    "        return Rational(\n",
    "            numer=(self.numer * other.denom) + (other.numer * self.denom),\n",
    "            denom=self.denom * other.denom,\n",
    "        )\n",
    "    \n",
    "    def eq(self, other):\n",
    "        return self.numer == other.numer and self.denom == other.denom\n",
    "    \n",
    "    def __repr__(self):\n",
    "        return '{numer} / {denom}'.format(numer=self.numer, denom=self.denom)"
   ]
  },
  {
   "cell_type": "markdown",
   "metadata": {
    "slideshow": {
     "slide_type": "notes"
    }
   },
   "source": [
    "* Here we guard against the invalid rational\n",
    "* Classes can constrain the state to better match the concept being modeled\n",
    "* This makes our class more accurate\n",
    "\n",
    "\n",
    "* Classes can also manage our state for us\n",
    "* We remove the reduce behavior\n",
    "* Rationals are always reduced"
   ]
  },
  {
   "cell_type": "code",
   "execution_count": 48,
   "metadata": {
    "collapsed": false,
    "slideshow": {
     "slide_type": "subslide"
    }
   },
   "outputs": [
    {
     "data": {
      "text/plain": [
       "(1 / 2, 1 / 2)"
      ]
     },
     "execution_count": 48,
     "metadata": {},
     "output_type": "execute_result"
    }
   ],
   "source": [
    "x = Rational(1, 2)\n",
    "y = Rational(2, 4)\n",
    "\n",
    "x, y"
   ]
  },
  {
   "cell_type": "markdown",
   "metadata": {
    "slideshow": {
     "slide_type": "notes"
    }
   },
   "source": [
    "* Now `x` and `y` are displayed the same\n",
    "* This is a more correct display"
   ]
  },
  {
   "cell_type": "code",
   "execution_count": 44,
   "metadata": {
    "collapsed": false,
    "slideshow": {
     "slide_type": "fragment"
    }
   },
   "outputs": [
    {
     "data": {
      "text/plain": [
       "True"
      ]
     },
     "execution_count": 44,
     "metadata": {},
     "output_type": "execute_result"
    }
   ],
   "source": [
    "x.eq(y)"
   ]
  },
  {
   "cell_type": "markdown",
   "metadata": {
    "slideshow": {
     "slide_type": "notes"
    }
   },
   "source": [
    "* The state normalization corrects some issues\n",
    "* No longer need to manually reduce\n",
    "* More abstract than \"pair of integers\""
   ]
  },
  {
   "cell_type": "code",
   "execution_count": 45,
   "metadata": {
    "collapsed": false,
    "slideshow": {
     "slide_type": "subslide"
    }
   },
   "outputs": [
    {
     "ename": "ValueError",
     "evalue": "denom cannot be zero",
     "output_type": "error",
     "traceback": [
      "\u001b[1;31m---------------------------------------------------------------------------\u001b[0m",
      "\u001b[1;31mValueError\u001b[0m                                Traceback (most recent call last)",
      "\u001b[1;32m<ipython-input-45-3b3cf4810869>\u001b[0m in \u001b[0;36m<module>\u001b[1;34m()\u001b[0m\n\u001b[1;32m----> 1\u001b[1;33m \u001b[0mz\u001b[0m \u001b[1;33m=\u001b[0m \u001b[0mRational\u001b[0m\u001b[1;33m(\u001b[0m\u001b[1;36m1\u001b[0m\u001b[1;33m,\u001b[0m \u001b[1;36m0\u001b[0m\u001b[1;33m)\u001b[0m\u001b[1;33m\u001b[0m\u001b[0m\n\u001b[0m",
      "\u001b[1;32m<ipython-input-42-b153d814d8ba>\u001b[0m in \u001b[0;36m__init__\u001b[1;34m(self, numer, denom)\u001b[0m\n\u001b[0;32m     11\u001b[0m     \u001b[1;32mdef\u001b[0m \u001b[0m__init__\u001b[0m\u001b[1;33m(\u001b[0m\u001b[0mself\u001b[0m\u001b[1;33m,\u001b[0m \u001b[0mnumer\u001b[0m\u001b[1;33m,\u001b[0m \u001b[0mdenom\u001b[0m\u001b[1;33m)\u001b[0m\u001b[1;33m:\u001b[0m\u001b[1;33m\u001b[0m\u001b[0m\n\u001b[0;32m     12\u001b[0m         \u001b[1;32mif\u001b[0m \u001b[0mdenom\u001b[0m \u001b[1;33m==\u001b[0m \u001b[1;36m0\u001b[0m\u001b[1;33m:\u001b[0m\u001b[1;33m\u001b[0m\u001b[0m\n\u001b[1;32m---> 13\u001b[1;33m             \u001b[1;32mraise\u001b[0m \u001b[0mValueError\u001b[0m\u001b[1;33m(\u001b[0m\u001b[1;34m'denom cannot be zero'\u001b[0m\u001b[1;33m)\u001b[0m\u001b[1;33m\u001b[0m\u001b[0m\n\u001b[0m\u001b[0;32m     14\u001b[0m \u001b[1;33m\u001b[0m\u001b[0m\n\u001b[0;32m     15\u001b[0m         \u001b[0mg\u001b[0m \u001b[1;33m=\u001b[0m \u001b[0mgcd\u001b[0m\u001b[1;33m(\u001b[0m\u001b[0mnumer\u001b[0m\u001b[1;33m,\u001b[0m \u001b[0mdenom\u001b[0m\u001b[1;33m)\u001b[0m\u001b[1;33m\u001b[0m\u001b[0m\n",
      "\u001b[1;31mValueError\u001b[0m: denom cannot be zero"
     ]
    }
   ],
   "source": [
    "z = Rational(1, 0)"
   ]
  },
  {
   "cell_type": "markdown",
   "metadata": {
    "slideshow": {
     "slide_type": "notes"
    }
   },
   "source": [
    "* Can no longer create invalid rationals\n",
    "* Better model for rationals\n",
    "* No longer need to worry about this problem"
   ]
  },
  {
   "cell_type": "markdown",
   "metadata": {
    "slideshow": {
     "slide_type": "slide"
    }
   },
   "source": [
    "## Subclassing"
   ]
  },
  {
   "cell_type": "markdown",
   "metadata": {
    "slideshow": {
     "slide_type": "notes"
    }
   },
   "source": [
    "* What is a subclass\n",
    "* A subclass is a special case or kind of another class\n",
    "\n",
    "\n",
    "* Example: Kittens are a __sub class__ of cats\n",
    "* All kittens are cats\n",
    "* Kittens can do the same things as cats\n",
    "* Kittens do some of those things differently\n",
    "* Kittens can some things that cats cant\n",
    "* Cat is a __super class__ of kitten\n",
    "* Not all cats are kittens\n",
    "\n",
    "\n",
    "* Allows us to represent hierarchies"
   ]
  },
  {
   "cell_type": "markdown",
   "metadata": {
    "slideshow": {
     "slide_type": "subslide"
    }
   },
   "source": [
    "## Integer as a subclass of Rational"
   ]
  },
  {
   "cell_type": "markdown",
   "metadata": {
    "slideshow": {
     "slide_type": "notes"
    }
   },
   "source": [
    "* Integers are rationals with a denominator of 1\n",
    "\n",
    "\n",
    "* Why do we want to represent an integer as a subclass of rational?\n",
    "* Integers can do everything that rationals can\n",
    "* Integers do some things differently\n",
    "* Integers have exclusivly more state (let's pretend)\n",
    "* Integers can be even or odd, non-integers cannot"
   ]
  },
  {
   "cell_type": "code",
   "execution_count": 55,
   "metadata": {
    "collapsed": true,
    "slideshow": {
     "slide_type": "fragment"
    }
   },
   "outputs": [],
   "source": [
    "class Integer(Rational):\n",
    "    \"\"\"A ratio whose denominator is 1.\n",
    "    \n",
    "    Parameters\n",
    "    ----------\n",
    "    value : int\n",
    "        The value of this integer.\n",
    "    \"\"\"\n",
    "    def __init__(self, value):\n",
    "        super().__init__(value, 1)\n",
    "        self.is_odd = bool(value & 1)\n",
    "        self.is_even = not self.is_odd\n",
    "        \n",
    "    def add(self, other):\n",
    "        if isinstance(other, Integer):\n",
    "            return Integer(self.numer + other.numer)\n",
    "        else:\n",
    "            return super().add(other)\n",
    "        \n",
    "    def __repr__(self):\n",
    "        return str(self.numer)"
   ]
  },
  {
   "cell_type": "markdown",
   "metadata": {
    "slideshow": {
     "slide_type": "notes"
    }
   },
   "source": [
    "* The `(Rational)` here means that `Integer` is a __subclass__ of `Rational`\n",
    "\n",
    "* Be default, we get all of the behavior of `Rational`\n",
    "\n",
    "* We are __overriding__ the initialization behavior\n",
    "* We still refer to the original behavior with __super__\n",
    "* This says, \"Call our super class's `__init__`\n",
    "* Add behavior but always refer to the super class's implementation\n",
    "* Integers have exclusivly more state\n",
    "* `is_even` and `is_odd`\n",
    "\n",
    "* Do the same with add\n",
    "* Still reference the original add\n",
    "\n",
    "* Notice we didn't change `eq`\n",
    "* We can still use `eq` just fine"
   ]
  },
  {
   "cell_type": "code",
   "execution_count": 56,
   "metadata": {
    "collapsed": false,
    "slideshow": {
     "slide_type": "subslide"
    }
   },
   "outputs": [
    {
     "name": "stdout",
     "output_type": "stream",
     "text": [
      "True\n",
      "True\n"
     ]
    }
   ],
   "source": [
    "r = Rational(1, 2)\n",
    "n = Integer(1)\n",
    "\n",
    "print(isinstance(r, Rational))\n",
    "print(isinstance(n, Integer))"
   ]
  },
  {
   "cell_type": "markdown",
   "metadata": {
    "slideshow": {
     "slide_type": "notes"
    }
   },
   "source": [
    "* Let `r` be a `Rational`\n",
    "* Let `n` be an `Integer`\n",
    "\n",
    "\n",
    "* remember that an object created from a class is refered to as an __instance__ of the class\n",
    "* `r` is an instance of `Rational` -> `r` is a `Rational`\n",
    "* `n` is an instance of `Integer` -> `n` is an `Integer`"
   ]
  },
  {
   "cell_type": "code",
   "execution_count": 52,
   "metadata": {
    "collapsed": false,
    "slideshow": {
     "slide_type": "fragment"
    }
   },
   "outputs": [
    {
     "name": "stdout",
     "output_type": "stream",
     "text": [
      "True\n",
      "False\n"
     ]
    }
   ],
   "source": [
    "print(isinstance(n, Rational))\n",
    "print(isinstance(r, Integer))"
   ]
  },
  {
   "cell_type": "markdown",
   "metadata": {
    "slideshow": {
     "slide_type": "notes"
    }
   },
   "source": [
    "* because `Integer` is a __subclass__ of `Rational`, `n` is a `Rational`\n",
    "\n",
    "* subclassing is a directional relationship\n",
    "* `r` does not become an `Integer`"
   ]
  },
  {
   "cell_type": "code",
   "execution_count": 63,
   "metadata": {
    "collapsed": false,
    "slideshow": {
     "slide_type": "subslide"
    }
   },
   "outputs": [
    {
     "data": {
      "text/plain": [
       "False"
      ]
     },
     "execution_count": 63,
     "metadata": {},
     "output_type": "execute_result"
    }
   ],
   "source": [
    "n.is_even"
   ]
  },
  {
   "cell_type": "code",
   "execution_count": 59,
   "metadata": {
    "collapsed": false,
    "slideshow": {
     "slide_type": "-"
    }
   },
   "outputs": [
    {
     "data": {
      "text/plain": [
       "True"
      ]
     },
     "execution_count": 59,
     "metadata": {},
     "output_type": "execute_result"
    }
   ],
   "source": [
    "n.is_odd"
   ]
  },
  {
   "cell_type": "markdown",
   "metadata": {
    "slideshow": {
     "slide_type": "notes"
    }
   },
   "source": [
    "* We can retrieve our new state"
   ]
  },
  {
   "cell_type": "code",
   "execution_count": 60,
   "metadata": {
    "collapsed": false,
    "slideshow": {
     "slide_type": "subslide"
    }
   },
   "outputs": [
    {
     "data": {
      "text/plain": [
       "False"
      ]
     },
     "execution_count": 60,
     "metadata": {},
     "output_type": "execute_result"
    }
   ],
   "source": [
    "n.eq(r)"
   ]
  },
  {
   "cell_type": "code",
   "execution_count": 61,
   "metadata": {
    "collapsed": false,
    "slideshow": {
     "slide_type": "-"
    }
   },
   "outputs": [
    {
     "data": {
      "text/plain": [
       "True"
      ]
     },
     "execution_count": 61,
     "metadata": {},
     "output_type": "execute_result"
    }
   ],
   "source": [
    "n.eq(Integer(1))"
   ]
  },
  {
   "cell_type": "markdown",
   "metadata": {
    "slideshow": {
     "slide_type": "notes"
    }
   },
   "source": [
    "* We can still use the `eq` behavior.\n",
    "* This was __inherited__ from `Rational`\n",
    "\n",
    "\n",
    "* Subclasses may also add behavior.\n",
    "* Sometimes our special cases can do more things"
   ]
  },
  {
   "cell_type": "markdown",
   "metadata": {
    "slideshow": {
     "slide_type": "slide"
    }
   },
   "source": [
    "## Natural as a subclass of Integer"
   ]
  },
  {
   "cell_type": "markdown",
   "metadata": {
    "slideshow": {
     "slide_type": "notes"
    }
   },
   "source": [
    "* A natural number is an integer that is greater than zero\n",
    "\n",
    "\n",
    "* Why do we want this?\n",
    "* All natural numbers are integers\n",
    "* Natural numbers can do exlusivly more things than arbitrary integers"
   ]
  },
  {
   "cell_type": "code",
   "execution_count": 72,
   "metadata": {
    "collapsed": true,
    "slideshow": {
     "slide_type": "fragment"
    }
   },
   "outputs": [],
   "source": [
    "class Natural(Integer):\n",
    "    \"\"\"An integer that is greater than zero.\n",
    "    \n",
    "    Parameters\n",
    "    ----------\n",
    "    value : int\n",
    "        The value of the natural.\n",
    "    \"\"\"\n",
    "    def __init__(self, value):\n",
    "        if value <= 0:\n",
    "            raise ValueError('value must be greater than zero')\n",
    "        super().__init__(value)\n",
    "        \n",
    "    def factorial(self):\n",
    "        fac = 1\n",
    "        for n in range(2, self.numer + 1):\n",
    "            fac *= n\n",
    "        return fac\n",
    "    "
   ]
  },
  {
   "cell_type": "markdown",
   "metadata": {
    "slideshow": {
     "slide_type": "notes"
    }
   },
   "source": [
    "* Natural numbers have all the same state as `Integer`s\n",
    "* They can also have exclusivly more state than `Rational`s\n",
    "\n",
    "\n",
    "* Here, we define `factorial` as a __method__ of `Natural`.\n",
    "* Natural numbers can compute their factorial; however, not all integers can do this"
   ]
  },
  {
   "cell_type": "markdown",
   "metadata": {
    "slideshow": {
     "slide_type": "slide"
    }
   },
   "source": [
    "## Modularity through subclassing"
   ]
  },
  {
   "cell_type": "markdown",
   "metadata": {
    "slideshow": {
     "slide_type": "notes"
    }
   },
   "source": [
    "* Modularity is the ability to break up code into smaller pieces\n",
    "* These pieces can then be used later to solve different kinds of problems\n",
    "\n",
    "\n",
    "* Allows others to define general purpose behavior for us\n",
    "* Use more general things to solve specific problems\n",
    "* This is one of the reasons OOP is so popular\n",
    "* Allows us to build on eachother's work\n",
    "\n",
    "\n",
    "* Web stuff is complicated\n",
    "* We probably don't care about that\n",
    "* We just want to write our service\n",
    "\n",
    "\n",
    "* A webserver is basically a mapping of endpoints to function calls\n",
    "* When someone goes to an endpoint, call a function\n",
    "* Send the result to the user\n",
    "\n",
    "\n",
    "* Flask is a web framework\n",
    "* Flask provides tools for web programmers to make a web server\n",
    "* Uses abstractions like objects and classes to represent a web server\n",
    "\n",
    "\n",
    "* We can define a class to manage one of these end points."
   ]
  },
  {
   "cell_type": "code",
   "execution_count": 79,
   "metadata": {
    "collapsed": false,
    "slideshow": {
     "slide_type": "subslide"
    }
   },
   "outputs": [],
   "source": [
    "from flask.views import MethodView\n",
    "\n",
    "\n",
    "class HelloEndpoint(MethodView):\n",
    "    \"\"\"An endpoint handler greets the user.\n",
    "    \"\"\"\n",
    "    def get(self):\n",
    "        return 'hello from my new webserver'"
   ]
  },
  {
   "cell_type": "markdown",
   "metadata": {
    "slideshow": {
     "slide_type": "notes"
    }
   },
   "source": [
    "* Here we can import a __class__ from flask.\n",
    "* Importing is like bringing in a class someone else wrote so that we can use it.\n",
    "* Remember that a class is a blueprint for an object\n",
    "\n",
    "\n",
    "* We make a new __subclass__ of `MethodView`\n",
    "* This subclass extends `MethodView` by adding our own `get` behavior\n",
    "* `MethodView` knows what to do with this."
   ]
  },
  {
   "cell_type": "code",
   "execution_count": 80,
   "metadata": {
    "collapsed": false,
    "slideshow": {
     "slide_type": "subslide"
    }
   },
   "outputs": [],
   "source": [
    "from flask import Flask\n",
    "\n",
    "app = Flask('my_app')\n",
    "app.add_url_rule('/hello', view_func=HelloEndpoint.as_view('hello'))"
   ]
  },
  {
   "cell_type": "markdown",
   "metadata": {
    "slideshow": {
     "slide_type": "notes"
    }
   },
   "source": [
    "* Let's jump to an interactive session quick\n",
    "* Here we are going to import the `Flask` class from flask\n",
    "* app is now an instance of `Flask`\n",
    "* app is an object that represents a web server\n",
    "* Here we can tell the server to use our new endpoint class to manage our `/hello` endpoint\n",
    "\n",
    "\n",
    "* Remember, webservers are really complicated\n",
    "* There is networking\n",
    "* listening to sockets\n",
    "* HTTP verbs\n",
    "* Some unicode encoding stuff that Ned can tell you about\n",
    "* A lot of other stuff that I don't even know\n",
    "\n",
    "\n",
    "* It is beautiful because I don't need to know how this works\n",
    "* I can build on the abstractions provided by others\n",
    "\n",
    "\n",
    "* Show the endpoint in my browser\n",
    "* it just works (tm)"
   ]
  },
  {
   "cell_type": "code",
   "execution_count": 21,
   "metadata": {
    "collapsed": true,
    "slideshow": {
     "slide_type": "subslide"
    }
   },
   "outputs": [],
   "source": [
    "class LoggingRestEndpoint(HelloEndpoint):\n",
    "    def get(self):\n",
    "        print('logging: get')\n",
    "        return super().get()"
   ]
  },
  {
   "cell_type": "markdown",
   "metadata": {
    "slideshow": {
     "slide_type": "notes"
    }
   },
   "source": [
    "* There is nothing special about the `MethodView` class\n",
    "* We can extend our own subclasses\n",
    "* We can then give these to our friends so they can use our abstractions"
   ]
  },
  {
   "cell_type": "markdown",
   "metadata": {
    "slideshow": {
     "slide_type": "slide"
    }
   },
   "source": [
    "# Thank you!\n",
    "\n",
    "## [github.com/llllllllll/boston-python-oop-talk](http://www.github.com/llllllllll/boston-python-oop-talk) \n",
    "## (10 lowercase L's)"
   ]
  }
 ],
 "metadata": {
  "celltoolbar": "Slideshow",
  "kernelspec": {
   "display_name": "Python 3",
   "language": "python",
   "name": "python3"
  },
  "language_info": {
   "codemirror_mode": {
    "name": "ipython",
    "version": 3
   },
   "file_extension": ".py",
   "mimetype": "text/x-python",
   "name": "python",
   "nbconvert_exporter": "python",
   "pygments_lexer": "ipython3",
   "version": "3.4.3"
  }
 },
 "nbformat": 4,
 "nbformat_minor": 0
}
