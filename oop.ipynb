{
 "cells": [
  {
   "cell_type": "markdown",
   "metadata": {
    "slideshow": {
     "slide_type": "slide"
    }
   },
   "source": [
    "## Introduction to objects and classes"
   ]
  },
  {
   "cell_type": "markdown",
   "metadata": {
    "slideshow": {
     "slide_type": "slide"
    }
   },
   "source": [
    "## Why is abstraction important?"
   ]
  },
  {
   "cell_type": "markdown",
   "metadata": {
    "slideshow": {
     "slide_type": "fragment"
    }
   },
   "source": [
    "```\n",
    "$ cat > hello.asm\n",
    "        SECTION .data\n",
    "msg:    db `Hello world!\\n`\n",
    "len:    equ $-msg\n",
    "\n",
    "        SECTION .text\n",
    "\n",
    "        global _start\n",
    "_start:\n",
    "        mov     rax,1\n",
    "        mov     rdi,1\n",
    "        mov     rsi,msg\n",
    "        mov     rdx,len\n",
    "        syscall\n",
    "        mov     rax,60\n",
    "        xor     rdi,rdi\n",
    "        syscall\n",
    "\n",
    "$ nasm -f elf64 hello.asm\n",
    "$ ld hello.o -o hello\n",
    "$ ./hello \n",
    "Hello world!\n",
    "```"
   ]
  },
  {
   "cell_type": "code",
   "execution_count": 1,
   "metadata": {
    "collapsed": false,
    "slideshow": {
     "slide_type": "fragment"
    }
   },
   "outputs": [
    {
     "name": "stdout",
     "output_type": "stream",
     "text": [
      "Hello World!\n"
     ]
    }
   ],
   "source": [
    "print('Hello World!')"
   ]
  },
  {
   "cell_type": "markdown",
   "metadata": {
    "slideshow": {
     "slide_type": "slide"
    }
   },
   "source": [
    "## Definitions"
   ]
  },
  {
   "cell_type": "markdown",
   "metadata": {
    "slideshow": {
     "slide_type": "subslide"
    }
   },
   "source": [
    "## State"
   ]
  },
  {
   "cell_type": "markdown",
   "metadata": {
    "slideshow": {
     "slide_type": "fragment"
    }
   },
   "source": [
    "The present condition or value of an entity."
   ]
  },
  {
   "cell_type": "markdown",
   "metadata": {
    "slideshow": {
     "slide_type": "fragment"
    }
   },
   "source": [
    "### Python example\n",
    "\n",
    "The state of the list `[1, 2, 3]` is that it contains three elements, `1`, `2`, and `3`.\n",
    "The state of the list can change over time."
   ]
  },
  {
   "cell_type": "markdown",
   "metadata": {
    "slideshow": {
     "slide_type": "subslide"
    }
   },
   "source": [
    "## Behavior"
   ]
  },
  {
   "cell_type": "markdown",
   "metadata": {
    "slideshow": {
     "slide_type": "fragment"
    }
   },
   "source": [
    "Actions that can be performed on an entity."
   ]
  },
  {
   "cell_type": "markdown",
   "metadata": {
    "slideshow": {
     "slide_type": "fragment"
    }
   },
   "source": [
    "### Python example\n",
    "\n",
    "lists can:\n",
    "\n",
    "1. retrieve elements\n",
    "1. set elements\n",
    "1. get the length\n",
    "1. append elements\n",
    "1. pop elements\n",
    "1. etc..."
   ]
  },
  {
   "cell_type": "markdown",
   "metadata": {
    "slideshow": {
     "slide_type": "subslide"
    }
   },
   "source": [
    "## Object"
   ]
  },
  {
   "cell_type": "markdown",
   "metadata": {
    "slideshow": {
     "slide_type": "fragment"
    }
   },
   "source": [
    "An identifiable grouping of state and behavior."
   ]
  },
  {
   "cell_type": "markdown",
   "metadata": {
    "slideshow": {
     "slide_type": "subslide"
    }
   },
   "source": [
    "## Class or Type"
   ]
  },
  {
   "cell_type": "markdown",
   "metadata": {
    "slideshow": {
     "slide_type": "fragment"
    }
   },
   "source": [
    "A specification that defines the behavior and the domain of the state for an object."
   ]
  },
  {
   "cell_type": "markdown",
   "metadata": {
    "slideshow": {
     "slide_type": "slide"
    }
   },
   "source": [
    "## Rationals\n",
    "\n",
    "Write a program that sums 1 / 3 and 3 / 6.\n",
    "\n",
    "The program should print 1 / 3, 3 / 6 and the result of computing 1 / 3 + 3 / 6"
   ]
  },
  {
   "cell_type": "code",
   "execution_count": 2,
   "metadata": {
    "collapsed": false,
    "slideshow": {
     "slide_type": "subslide"
    }
   },
   "outputs": [
    {
     "name": "stdout",
     "output_type": "stream",
     "text": [
      "x = 1 / 3\n",
      "y = 3 / 6\n",
      "x + y = 5 / 6\n"
     ]
    }
   ],
   "source": [
    "from fractions import gcd\n",
    "\n",
    "# 1 / 3\n",
    "x_numer = 1\n",
    "x_denom = 3\n",
    "print('x = {n} / {d}'.format(n=x_numer, d=x_denom))\n",
    "\n",
    "# 3 / 6\n",
    "y_numer = 3\n",
    "y_denom = 6\n",
    "print('y = {n} / {d}'.format(n=y_numer, d=y_denom))\n",
    "\n",
    "# add x and y\n",
    "res_numer = (x_numer * y_denom) + (y_numer * x_denom)\n",
    "res_denom = x_denom * y_denom\n",
    "\n",
    "# reduce\n",
    "res_gcd = gcd(res_numer, res_denom)\n",
    "res_numer = res_numer // res_gcd\n",
    "res_denom = res_denom // res_gcd\n",
    "print('x + y = {n} / {d}'.format(n=res_numer, d=res_denom))"
   ]
  },
  {
   "cell_type": "code",
   "execution_count": 3,
   "metadata": {
    "collapsed": false,
    "slideshow": {
     "slide_type": "subslide"
    }
   },
   "outputs": [
    {
     "name": "stdout",
     "output_type": "stream",
     "text": [
      "x = 1 / 3\n",
      "y = 3 / 6\n",
      "x + y = 5 / 6\n"
     ]
    }
   ],
   "source": [
    "# 1 / 3\n",
    "x = 1, 3\n",
    "print('x = {n} / {d}'.format(n=x[0], d=x[1]))\n",
    "\n",
    "# 3 / 6\n",
    "y = 3, 6\n",
    "print('y = {n} / {d}'.format(n=y[0], d=y[1]))\n",
    "\n",
    "# add x and y\n",
    "res = (x[0] * y[1]) + (y[0] * x[1]), x[1] * y[1]\n",
    "\n",
    "# reduce\n",
    "res_gcd = gcd(res[0], res[1])\n",
    "res = res[0] // res_gcd, res[1] // res_gcd\n",
    "print('x + y = {n} / {d}'.format(n=res[0], d=res[1]))"
   ]
  },
  {
   "cell_type": "code",
   "execution_count": 4,
   "metadata": {
    "collapsed": true,
    "slideshow": {
     "slide_type": "subslide"
    }
   },
   "outputs": [],
   "source": [
    "def add_rat(x, y):\n",
    "    \"\"\"Adds two rational numbers.\n",
    "    \n",
    "    Parameters\n",
    "    ----------\n",
    "    x : tuple\n",
    "        The first rational.\n",
    "    y : tuple\n",
    "        The second rational.\n",
    "\n",
    "    Returns\n",
    "    -------\n",
    "    sum : tuple\n",
    "        The result of x + y\n",
    "    \"\"\"\n",
    "    return (x[0] * y[1]) + (y[0] * x[1]), x[1] * y[1]"
   ]
  },
  {
   "cell_type": "code",
   "execution_count": 5,
   "metadata": {
    "collapsed": false,
    "slideshow": {
     "slide_type": "subslide"
    }
   },
   "outputs": [
    {
     "name": "stdout",
     "output_type": "stream",
     "text": [
      "x + y = 10 / 12\n",
      "x + z = 16 / 21\n",
      "y + z = 26 / 28\n"
     ]
    }
   ],
   "source": [
    "x = 1, 3\n",
    "y = 2, 4\n",
    "z = 3, 7\n",
    "\n",
    "sum_xy = add_rat(x, y)\n",
    "sum_xz = add_rat(x, z)\n",
    "sum_yz = add_rat(y, z)\n",
    "\n",
    "print('x + y = {n} / {d}'.format(n=sum_xy[0], d=sum_xy[1]))\n",
    "print('x + z = {n} / {d}'.format(n=sum_xz[0], d=sum_xz[1]))\n",
    "print('y + z = {n} / {d}'.format(n=sum_yz[0], d=sum_yz[1]))"
   ]
  },
  {
   "cell_type": "code",
   "execution_count": 6,
   "metadata": {
    "collapsed": true,
    "slideshow": {
     "slide_type": "subslide"
    }
   },
   "outputs": [],
   "source": [
    "def reduce_rat(r):\n",
    "    \"\"\"Reduce a rational number to the most simple form.\n",
    "    \n",
    "    Parameters\n",
    "    ----------\n",
    "    r : tuple\n",
    "        A rational.\n",
    "\n",
    "    Returns\n",
    "    -------\n",
    "    reduced : tuple\n",
    "        The most reduced form of r.\n",
    "    \"\"\"\n",
    "    g = gcd(r[0], r[1])\n",
    "    return r[0] // g, r[1] // g"
   ]
  },
  {
   "cell_type": "code",
   "execution_count": 7,
   "metadata": {
    "collapsed": false,
    "slideshow": {
     "slide_type": "subslide"
    }
   },
   "outputs": [
    {
     "name": "stdout",
     "output_type": "stream",
     "text": [
      "x + y = 5 / 6\n",
      "x + z = 16 / 21\n",
      "y + z = 13 / 14\n"
     ]
    }
   ],
   "source": [
    "x = 1, 3\n",
    "y = 2, 4\n",
    "z = 3, 7\n",
    "\n",
    "sum_xy = add_rat(x, y)\n",
    "sum_xy = reduce_rat(sum_xy)\n",
    "\n",
    "sum_xz = add_rat(x, z)\n",
    "sum_xz = reduce_rat(sum_xz)\n",
    "\n",
    "sum_yz = add_rat(y, z)\n",
    "sum_yz = reduce_rat(sum_yz)\n",
    "\n",
    "print('x + y = {n} / {d}'.format(n=sum_xy[0], d=sum_xy[1]))\n",
    "print('x + z = {n} / {d}'.format(n=sum_xz[0], d=sum_xz[1]))\n",
    "print('y + z = {n} / {d}'.format(n=sum_yz[0], d=sum_yz[1]))"
   ]
  },
  {
   "cell_type": "code",
   "execution_count": 8,
   "metadata": {
    "collapsed": true,
    "slideshow": {
     "slide_type": "subslide"
    }
   },
   "outputs": [],
   "source": [
    "def rat_to_str(r):\n",
    "    \"\"\"Convert a rational number to a string representation.\n",
    "    \n",
    "    Parameters\n",
    "    ----------\n",
    "    r : tuple\n",
    "        A rational.\n",
    "\n",
    "    Returns\n",
    "    -------\n",
    "    cs : str\n",
    "        A string representation of r.\n",
    "    \"\"\"\n",
    "    return '{numer} / {denom}'.format(numer=r[0], denom=r[1])"
   ]
  },
  {
   "cell_type": "code",
   "execution_count": 9,
   "metadata": {
    "collapsed": false,
    "slideshow": {
     "slide_type": "subslide"
    }
   },
   "outputs": [
    {
     "name": "stdout",
     "output_type": "stream",
     "text": [
      "x + y = 5 / 6\n",
      "x + z = 16 / 21\n",
      "y + z = 13 / 14\n"
     ]
    }
   ],
   "source": [
    "x = 1, 3\n",
    "y = 2, 4\n",
    "z = 3, 7\n",
    "\n",
    "sum_xy = add_rat(x, y)\n",
    "sum_xy = reduce_rat(sum_xy)\n",
    "\n",
    "sum_xz = add_rat(x, z)\n",
    "sum_xz = reduce_rat(sum_xz)\n",
    "\n",
    "sum_yz = add_rat(y, z)\n",
    "sum_yz = reduce_rat(sum_yz)\n",
    "\n",
    "print('x + y = {}'.format(rat_to_str(sum_xy)))\n",
    "print('x + z = {}'.format(rat_to_str(sum_xz)))\n",
    "print('y + z = {}'.format(rat_to_str(sum_yz)))"
   ]
  },
  {
   "cell_type": "code",
   "execution_count": 10,
   "metadata": {
    "collapsed": true,
    "slideshow": {
     "slide_type": "slide"
    }
   },
   "outputs": [],
   "source": [
    "class Rational:\n",
    "    \"\"\"A rational number.\n",
    "    \n",
    "    Parameters\n",
    "    ----------\n",
    "    numer : int\n",
    "        The numerator.\n",
    "    denom : int\n",
    "        The denominator.\n",
    "    \"\"\"\n",
    "    def __init__(self, numer, denom):\n",
    "        self.numer = numer\n",
    "        self.denom = denom\n",
    "        \n",
    "    def add(self, other):\n",
    "        return Rational(\n",
    "            numer=(self.numer * other.denom) + (other.numer * self.denom),\n",
    "            denom=self.denom * other.denom,\n",
    "        )\n",
    "    \n",
    "    def eq(self, other):\n",
    "        return self.numer == other.numer and self.denom == other.denom\n",
    "    \n",
    "    def reduce(self):\n",
    "        g = gcd(self.numer, self.denom)\n",
    "        return Rational(\n",
    "            numer=self.numer // g,\n",
    "            denom=self.denom // g,\n",
    "        )\n",
    "    \n",
    "    def __str__(self):\n",
    "        return '{numer} / {denom}'.format(numer=self.numer, denom=self.denom)"
   ]
  },
  {
   "cell_type": "code",
   "execution_count": 11,
   "metadata": {
    "collapsed": false,
    "slideshow": {
     "slide_type": "subslide"
    }
   },
   "outputs": [
    {
     "name": "stdout",
     "output_type": "stream",
     "text": [
      "x + y = 5 / 6\n",
      "x + z = 16 / 21\n",
      "y + z = 13 / 14\n"
     ]
    }
   ],
   "source": [
    "x = Rational(1, 3)\n",
    "y = Rational(2, 4)\n",
    "z = Rational(3, 7)\n",
    "\n",
    "sum_xy = x.add(y)\n",
    "sum_xy = sum_xy.reduce()\n",
    "\n",
    "sum_xz = x.add(z)\n",
    "sum_xz = sum_xz.reduce()\n",
    "\n",
    "sum_yz = y.add(z)\n",
    "sum_yz = sum_yz.reduce()\n",
    "\n",
    "print('x + y = {}'.format(sum_xy))\n",
    "print('x + z = {}'.format(sum_xz))\n",
    "print('y + z = {}'.format(sum_yz))"
   ]
  },
  {
   "cell_type": "code",
   "execution_count": 12,
   "metadata": {
    "collapsed": false,
    "slideshow": {
     "slide_type": "subslide"
    }
   },
   "outputs": [
    {
     "name": "stdout",
     "output_type": "stream",
     "text": [
      "y = 1 / 2 = 2 / 4 = z\n",
      "x.eq(y)? False\n",
      "z = 1 / 0\n"
     ]
    }
   ],
   "source": [
    "x = Rational(1, 2)\n",
    "y = Rational(2, 4)\n",
    "\n",
    "print('y = {} = {} = z'.format(x, y))\n",
    "print('x.eq(y)? {}'.format(x.eq(y)))\n",
    "\n",
    "z = Rational(1, 0)\n",
    "print('z = {}'.format(z))"
   ]
  },
  {
   "cell_type": "code",
   "execution_count": 13,
   "metadata": {
    "collapsed": true,
    "slideshow": {
     "slide_type": "subslide"
    }
   },
   "outputs": [],
   "source": [
    "class Rational:\n",
    "    \"\"\"A rational number.\n",
    "    \n",
    "    Parameters\n",
    "    ----------\n",
    "    numer : int\n",
    "        The numerator.\n",
    "    denom : int\n",
    "        The denominator.\n",
    "    \"\"\"\n",
    "    def __init__(self, numer, denom):\n",
    "        if denom == 0:\n",
    "            raise ValueError('denom cannot be zero')\n",
    "\n",
    "        g = gcd(numer, denom)\n",
    "        self.numer = numer // g\n",
    "        self.denom = denom // g\n",
    "        \n",
    "    def add(self, other):\n",
    "        return Rational(\n",
    "            numer=(self.numer * other.denom) + (other.numer * self.denom),\n",
    "            denom=self.denom * other.denom,\n",
    "        )\n",
    "    \n",
    "    def eq(self, other):\n",
    "        return self.numer == other.numer and self.denom == other.denom\n",
    "    \n",
    "    def __str__(self):\n",
    "        return '{numer} / {denom}'.format(numer=self.numer, denom=self.denom)"
   ]
  },
  {
   "cell_type": "code",
   "execution_count": 14,
   "metadata": {
    "collapsed": false,
    "slideshow": {
     "slide_type": "subslide"
    }
   },
   "outputs": [
    {
     "name": "stdout",
     "output_type": "stream",
     "text": [
      "y = 1 / 2 = 1 / 2 = z\n",
      "x.eq(y)? True\n"
     ]
    },
    {
     "ename": "ValueError",
     "evalue": "denom cannot be zero",
     "output_type": "error",
     "traceback": [
      "\u001b[1;31m---------------------------------------------------------------------------\u001b[0m",
      "\u001b[1;31mValueError\u001b[0m                                Traceback (most recent call last)",
      "\u001b[1;32m<ipython-input-14-095dd272e8be>\u001b[0m in \u001b[0;36m<module>\u001b[1;34m()\u001b[0m\n\u001b[0;32m      5\u001b[0m \u001b[0mprint\u001b[0m\u001b[1;33m(\u001b[0m\u001b[1;34m'x.eq(y)? {}'\u001b[0m\u001b[1;33m.\u001b[0m\u001b[0mformat\u001b[0m\u001b[1;33m(\u001b[0m\u001b[0mx\u001b[0m\u001b[1;33m.\u001b[0m\u001b[0meq\u001b[0m\u001b[1;33m(\u001b[0m\u001b[0my\u001b[0m\u001b[1;33m)\u001b[0m\u001b[1;33m)\u001b[0m\u001b[1;33m)\u001b[0m\u001b[1;33m\u001b[0m\u001b[0m\n\u001b[0;32m      6\u001b[0m \u001b[1;33m\u001b[0m\u001b[0m\n\u001b[1;32m----> 7\u001b[1;33m \u001b[0mz\u001b[0m \u001b[1;33m=\u001b[0m \u001b[0mRational\u001b[0m\u001b[1;33m(\u001b[0m\u001b[1;36m1\u001b[0m\u001b[1;33m,\u001b[0m \u001b[1;36m0\u001b[0m\u001b[1;33m)\u001b[0m\u001b[1;33m\u001b[0m\u001b[0m\n\u001b[0m\u001b[0;32m      8\u001b[0m \u001b[0mprint\u001b[0m\u001b[1;33m(\u001b[0m\u001b[1;34m'z = {}'\u001b[0m\u001b[1;33m.\u001b[0m\u001b[0mformat\u001b[0m\u001b[1;33m(\u001b[0m\u001b[0mz\u001b[0m\u001b[1;33m)\u001b[0m\u001b[1;33m)\u001b[0m\u001b[1;33m\u001b[0m\u001b[0m\n",
      "\u001b[1;32m<ipython-input-13-b153d814d8ba>\u001b[0m in \u001b[0;36m__init__\u001b[1;34m(self, numer, denom)\u001b[0m\n\u001b[0;32m     11\u001b[0m     \u001b[1;32mdef\u001b[0m \u001b[0m__init__\u001b[0m\u001b[1;33m(\u001b[0m\u001b[0mself\u001b[0m\u001b[1;33m,\u001b[0m \u001b[0mnumer\u001b[0m\u001b[1;33m,\u001b[0m \u001b[0mdenom\u001b[0m\u001b[1;33m)\u001b[0m\u001b[1;33m:\u001b[0m\u001b[1;33m\u001b[0m\u001b[0m\n\u001b[0;32m     12\u001b[0m         \u001b[1;32mif\u001b[0m \u001b[0mdenom\u001b[0m \u001b[1;33m==\u001b[0m \u001b[1;36m0\u001b[0m\u001b[1;33m:\u001b[0m\u001b[1;33m\u001b[0m\u001b[0m\n\u001b[1;32m---> 13\u001b[1;33m             \u001b[1;32mraise\u001b[0m \u001b[0mValueError\u001b[0m\u001b[1;33m(\u001b[0m\u001b[1;34m'denom cannot be zero'\u001b[0m\u001b[1;33m)\u001b[0m\u001b[1;33m\u001b[0m\u001b[0m\n\u001b[0m\u001b[0;32m     14\u001b[0m \u001b[1;33m\u001b[0m\u001b[0m\n\u001b[0;32m     15\u001b[0m         \u001b[0mg\u001b[0m \u001b[1;33m=\u001b[0m \u001b[0mgcd\u001b[0m\u001b[1;33m(\u001b[0m\u001b[0mnumer\u001b[0m\u001b[1;33m,\u001b[0m \u001b[0mdenom\u001b[0m\u001b[1;33m)\u001b[0m\u001b[1;33m\u001b[0m\u001b[0m\n",
      "\u001b[1;31mValueError\u001b[0m: denom cannot be zero"
     ]
    }
   ],
   "source": [
    "x = Rational(1, 2)\n",
    "y = Rational(2, 4)\n",
    "\n",
    "print('y = {} = {} = z'.format(x, y))\n",
    "print('x.eq(y)? {}'.format(x.eq(y)))\n",
    "\n",
    "z = Rational(1, 0)\n",
    "print('z = {}'.format(z))"
   ]
  },
  {
   "cell_type": "markdown",
   "metadata": {
    "slideshow": {
     "slide_type": "slide"
    }
   },
   "source": [
    "## Object Identity"
   ]
  },
  {
   "cell_type": "code",
   "execution_count": 15,
   "metadata": {
    "collapsed": false,
    "slideshow": {
     "slide_type": "fragment"
    }
   },
   "outputs": [
    {
     "name": "stdout",
     "output_type": "stream",
     "text": [
      "a = 1 / 2\n",
      "b = 1 / 2\n",
      "a.eq(b)? True\n",
      "a is b? False\n",
      "\n",
      "c = 1 / 2\n",
      "a.eq(c)? True\n",
      "a is c? True\n"
     ]
    }
   ],
   "source": [
    "a = Rational(1, 2)\n",
    "b = Rational(1, 2)\n",
    "\n",
    "print('a = {}'.format(a))\n",
    "print('b = {}'.format(b))\n",
    "print('a.eq(b)? {}'.format(a.eq(b)))\n",
    "print('a is b? {}'.format(a is b))\n",
    "\n",
    "c = a\n",
    "print('\\nc = {}'.format(c))\n",
    "print('a.eq(c)? {}'.format(a.eq(c)))\n",
    "print('a is c? {}'.format(a is c))"
   ]
  },
  {
   "cell_type": "markdown",
   "metadata": {
    "slideshow": {
     "slide_type": "slide"
    }
   },
   "source": [
    "## Subclassing"
   ]
  },
  {
   "cell_type": "markdown",
   "metadata": {
    "slideshow": {
     "slide_type": "fragment"
    }
   },
   "source": [
    "* Inherit behavior and state from parent class"
   ]
  },
  {
   "cell_type": "markdown",
   "metadata": {
    "slideshow": {
     "slide_type": "fragment"
    }
   },
   "source": [
    "* Allows us to overriede some of the behavior"
   ]
  },
  {
   "cell_type": "markdown",
   "metadata": {
    "slideshow": {
     "slide_type": "fragment"
    }
   },
   "source": [
    "* Allows us to express hierarchical relationships in our models"
   ]
  },
  {
   "cell_type": "markdown",
   "metadata": {
    "slideshow": {
     "slide_type": "subslide"
    }
   },
   "source": [
    "## Integer as a subclass of Rational"
   ]
  },
  {
   "cell_type": "code",
   "execution_count": 16,
   "metadata": {
    "collapsed": true,
    "slideshow": {
     "slide_type": "fragment"
    }
   },
   "outputs": [],
   "source": [
    "class Integer(Rational):\n",
    "    \"\"\"An integer.\n",
    "    \n",
    "    Parameters\n",
    "    ----------\n",
    "    value : int\n",
    "        The value of this integer.\n",
    "    \"\"\"\n",
    "    def __init__(self, value):\n",
    "        return super().__init__(value, 1)\n",
    "        \n",
    "    def add(self, other):\n",
    "        if isinstance(other, Integer):\n",
    "            return Integer(self.numer + other.numer)\n",
    "        else:\n",
    "            return super().add(other)\n",
    "        \n",
    "    def __str__(self):\n",
    "        return str(self.numer)"
   ]
  },
  {
   "cell_type": "code",
   "execution_count": 17,
   "metadata": {
    "collapsed": false,
    "slideshow": {
     "slide_type": "subslide"
    }
   },
   "outputs": [
    {
     "name": "stdout",
     "output_type": "stream",
     "text": [
      "True\n",
      "True\n",
      "True\n",
      "False\n"
     ]
    }
   ],
   "source": [
    "r = Rational(1, 2)\n",
    "n = Integer(1)\n",
    "\n",
    "print(isinstance(r, Rational))\n",
    "print(isinstance(n, Integer))\n",
    "\n",
    "print(isinstance(n, Rational))\n",
    "print(isinstance(r, Integer))"
   ]
  },
  {
   "cell_type": "code",
   "execution_count": 18,
   "metadata": {
    "collapsed": false,
    "slideshow": {
     "slide_type": "subslide"
    }
   },
   "outputs": [
    {
     "name": "stdout",
     "output_type": "stream",
     "text": [
      "r.eq(n)? False\n",
      "n.eq(r)? False\n",
      "m.eq(p)? True\n",
      "\n",
      "r + n = 3 / 2\n",
      "r + m = 5 / 2\n",
      "n + m = 3\n"
     ]
    }
   ],
   "source": [
    "r = Rational(1, 2)\n",
    "n = Integer(1)\n",
    "m = Integer(2)\n",
    "p = Integer(2)\n",
    "\n",
    "print('r.eq(n)? {}'.format(r.eq(n)))\n",
    "print('n.eq(r)? {}'.format(n.eq(r)))\n",
    "print('m.eq(p)? {}'.format(m.eq(p)))\n",
    "\n",
    "print('\\nr + n = {}'.format(r.add(n)))\n",
    "print('r + m = {}'.format(r.add(m)))\n",
    "print('n + m = {}'.format(n.add(m)))"
   ]
  },
  {
   "cell_type": "markdown",
   "metadata": {
    "slideshow": {
     "slide_type": "slide"
    }
   },
   "source": [
    "## Modularity through subclassing"
   ]
  },
  {
   "cell_type": "markdown",
   "metadata": {
    "slideshow": {
     "slide_type": "fragment"
    }
   },
   "source": [
    "* Allows subclasses to drive our behavior."
   ]
  },
  {
   "cell_type": "markdown",
   "metadata": {
    "slideshow": {
     "slide_type": "fragment"
    }
   },
   "source": [
    "* Makes it easier for frameworks to abstract heavy lifting."
   ]
  },
  {
   "cell_type": "code",
   "execution_count": 19,
   "metadata": {
    "collapsed": false,
    "slideshow": {
     "slide_type": "subslide"
    }
   },
   "outputs": [],
   "source": [
    "from flask.views import MethodView\n",
    "\n",
    "\n",
    "class TrivialRestEndpoint(MethodView):\n",
    "    \"\"\"A restful endpoint handler that returns\n",
    "    the method name.\n",
    "    \"\"\"\n",
    "    def get(self):\n",
    "        return 'get'\n",
    "        \n",
    "    def post(self):\n",
    "        return 'post'\n",
    "        \n",
    "    def delete(self):\n",
    "        return 'delete'"
   ]
  },
  {
   "cell_type": "code",
   "execution_count": 20,
   "metadata": {
    "collapsed": false,
    "slideshow": {
     "slide_type": "subslide"
    }
   },
   "outputs": [
    {
     "name": "stdout",
     "output_type": "stream",
     "text": [
      "b'get'\n",
      "b'post'\n",
      "b'delete'\n"
     ]
    }
   ],
   "source": [
    "from flask import Flask\n",
    "\n",
    "app = Flask('my_app')\n",
    "app.add_url_rule('/test', view_func=TrivialRestEndpoint.as_view('test'))\n",
    "app.testing = True\n",
    "\n",
    "client = app.test_client()\n",
    "\n",
    "print(client.get('/test').data)\n",
    "print(client.post('/test').data)\n",
    "print(client.delete('/test').data)"
   ]
  },
  {
   "cell_type": "code",
   "execution_count": 21,
   "metadata": {
    "collapsed": true,
    "slideshow": {
     "slide_type": "subslide"
    }
   },
   "outputs": [],
   "source": [
    "class LoggingRestEndpoint(TrivialRestEndpoint):\n",
    "    def get(self):\n",
    "        print('logging: get')\n",
    "        return super().get()\n",
    "    \n",
    "    def post(self):\n",
    "        print('logging: post')\n",
    "        return super().post()\n",
    "    \n",
    "    def delete(self):\n",
    "        print('logging: delete')\n",
    "        return super().delete()"
   ]
  },
  {
   "cell_type": "code",
   "execution_count": 22,
   "metadata": {
    "collapsed": false,
    "slideshow": {
     "slide_type": "subslide"
    }
   },
   "outputs": [
    {
     "name": "stdout",
     "output_type": "stream",
     "text": [
      "logging: get\n",
      "logging: post\n",
      "logging: delete\n"
     ]
    },
    {
     "data": {
      "text/plain": [
       "<Response streamed [200 OK]>"
      ]
     },
     "execution_count": 22,
     "metadata": {},
     "output_type": "execute_result"
    }
   ],
   "source": [
    "app.add_url_rule('/logged', view_func=LoggingRestEndpoint.as_view('logged'))\n",
    "\n",
    "client.get('/logged')\n",
    "client.post('/logged')\n",
    "client.delete('/logged')"
   ]
  },
  {
   "cell_type": "markdown",
   "metadata": {
    "slideshow": {
     "slide_type": "slide"
    }
   },
   "source": [
    "# Thank you!\n",
    "\n",
    "## [github.com/llllllllll/boston-python-oop-talk](http://www.github.com/llllllllll/boston-python-oop-talk) \n",
    "## (10 lowecase L's)"
   ]
  }
 ],
 "metadata": {
  "celltoolbar": "Slideshow",
  "kernelspec": {
   "display_name": "Python 3",
   "language": "python",
   "name": "python3"
  },
  "language_info": {
   "codemirror_mode": {
    "name": "ipython",
    "version": 3
   },
   "file_extension": ".py",
   "mimetype": "text/x-python",
   "name": "python",
   "nbconvert_exporter": "python",
   "pygments_lexer": "ipython3",
   "version": "3.4.3"
  }
 },
 "nbformat": 4,
 "nbformat_minor": 0
}
